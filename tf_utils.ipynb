{
 "cells": [
  {
   "cell_type": "code",
   "execution_count": 1,
   "metadata": {
    "collapsed": false
   },
   "outputs": [
    {
     "name": "stderr",
     "output_type": "stream",
     "text": [
      "/is/sg/klee/anaconda3/lib/python3.6/site-packages/h5py/__init__.py:34: FutureWarning: Conversion of the second argument of issubdtype from `float` to `np.floating` is deprecated. In future, it will be treated as `np.float64 == np.dtype(float).type`.\n",
      "  from ._conv import register_converters as _register_converters\n"
     ]
    }
   ],
   "source": [
    "import tensorflow as tf"
   ]
  },
  {
   "cell_type": "markdown",
   "metadata": {},
   "source": [
    "### l1_regularization"
   ]
  },
  {
   "cell_type": "code",
   "execution_count": 3,
   "metadata": {
    "collapsed": true
   },
   "outputs": [],
   "source": [
    "def l1_reg(A):\n",
    "    '''\n",
    "    Assume A is of the form: n-by-d\n",
    "    '''\n",
    "    tmp = tf.abs(A)\n",
    "    return tf.reduce_mean(tf.reduce_sum(tmp, axis=1))"
   ]
  },
  {
   "cell_type": "code",
   "execution_count": 4,
   "metadata": {
    "collapsed": false
   },
   "outputs": [
    {
     "name": "stdout",
     "output_type": "stream",
     "text": [
      "[[ 1 -2]\n",
      " [-4 -3]]\n",
      "[[1 2]\n",
      " [4 3]]\n",
      "5\n"
     ]
    }
   ],
   "source": [
    "# Testing the l1_reg\n",
    "A = tf.constant([[1, -2],\n",
    "                [-4, -3]])\n",
    "l1_reg(A)\n",
    "with tf.Session() as sess:\n",
    "    print(sess.run(A))\n",
    "    print(sess.run(tf.abs(A)))\n",
    "    print(sess.run(l1_reg(A)))"
   ]
  },
  {
   "cell_type": "markdown",
   "metadata": {},
   "source": [
    "### Jacobian w.r.t The Input"
   ]
  },
  {
   "cell_type": "code",
   "execution_count": 5,
   "metadata": {
    "collapsed": true
   },
   "outputs": [],
   "source": [
    "def J_x(H,x):\n",
    "    J = []\n",
    "    for i in range(H.shape[1]):\n",
    "        J_j = tf.gradients(H[:,i],x)\n",
    "        J.append(J_j[0])\n",
    "    return tf.stack(J, axis=1)"
   ]
  },
  {
   "cell_type": "code",
   "execution_count": 16,
   "metadata": {
    "collapsed": false
   },
   "outputs": [
    {
     "name": "stdout",
     "output_type": "stream",
     "text": [
      "(?, 2)\n",
      "(?, 2, 2)\n",
      "F1: (?,)\n",
      "reg_cae: ()\n"
     ]
    }
   ],
   "source": [
    "# A very simple model\n",
    "tf.reset_default_graph()\n",
    "x = tf.placeholder(tf.float32, shape=[None,2])\n",
    "A = tf.constant([[1, -2],\n",
    "                [-4, -3]], dtype=tf.float32)\n",
    "h = tf.matmul(x, A)\n",
    "\n",
    "\n",
    "B = J_x(h, x)\n",
    "F = tf.norm(B)\n",
    "F1 = tf.norm(B, axis=[1,2]) # taking the norm over the two later parts\n",
    "reg_cae = tf.reduce_mean(F1)\n",
    "print(h.shape)\n",
    "print(B.shape)\n",
    "print('F1: {}'.format(F1.shape))\n",
    "print('reg_cae: {}'.format(reg_cae.shape))"
   ]
  },
  {
   "cell_type": "code",
   "execution_count": 18,
   "metadata": {
    "collapsed": false
   },
   "outputs": [
    {
     "name": "stdout",
     "output_type": "stream",
     "text": [
      "[[[ 1. -4.]\n",
      "  [-2. -3.]]\n",
      "\n",
      " [[ 1. -4.]\n",
      "  [-2. -3.]]]\n",
      "[[[ 1. -4.]\n",
      "  [-2. -3.]]]\n",
      "[5.477226 5.477226]\n",
      "5.477226\n"
     ]
    }
   ],
   "source": [
    "with tf.Session() as sess:        \n",
    "    # Note that. d/dx (xA) = A^t\n",
    "    tmp1 = sess.run(B, feed_dict={x: [[1,3], [2,3]]})\n",
    "    tmp2 = sess.run(B, feed_dict={x: [[1,3]]})\n",
    "    norm_1 = sess.run(F1, feed_dict={x: [[1,3], [1,3]]})\n",
    "    reg_loss = sess.run(reg_cae, feed_dict={x: [[1,3], [1,3]]})\n",
    "    print(tmp1)\n",
    "    print(tmp2)\n",
    "    print(norm_1)\n",
    "    print(reg_loss)"
   ]
  },
  {
   "cell_type": "markdown",
   "metadata": {},
   "source": [
    "### Norm evaluation"
   ]
  },
  {
   "cell_type": "code",
   "execution_count": null,
   "metadata": {
    "collapsed": true
   },
   "outputs": [],
   "source": []
  }
 ],
 "metadata": {
  "kernelspec": {
   "display_name": "Python 3",
   "language": "python",
   "name": "python3"
  },
  "language_info": {
   "codemirror_mode": {
    "name": "ipython",
    "version": 3
   },
   "file_extension": ".py",
   "mimetype": "text/x-python",
   "name": "python",
   "nbconvert_exporter": "python",
   "pygments_lexer": "ipython3",
   "version": "3.6.0"
  }
 },
 "nbformat": 4,
 "nbformat_minor": 2
}
