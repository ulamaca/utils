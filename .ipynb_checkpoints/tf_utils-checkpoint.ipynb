{
 "cells": [
  {
   "cell_type": "code",
   "execution_count": 58,
   "metadata": {
    "collapsed": false
   },
   "outputs": [],
   "source": [
    "import tensorflow as tf"
   ]
  },
  {
   "cell_type": "markdown",
   "metadata": {
    "heading_collapsed": true
   },
   "source": [
    "### l1_regularization"
   ]
  },
  {
   "cell_type": "code",
   "execution_count": 6,
   "metadata": {
    "collapsed": true,
    "hidden": true
   },
   "outputs": [],
   "source": [
    "def l1_reg(A):\n",
    "    '''\n",
    "    Assume A is of the form: n-by-d\n",
    "    '''\n",
    "    tmp = tf.abs(A)\n",
    "    return tf.reduce_mean(tf.reduce_sum(tmp, axis=1))"
   ]
  },
  {
   "cell_type": "code",
   "execution_count": 7,
   "metadata": {
    "collapsed": false,
    "hidden": true
   },
   "outputs": [
    {
     "name": "stdout",
     "output_type": "stream",
     "text": [
      "[[ 1 -2]\n",
      " [-4 -3]]\n",
      "[[1 2]\n",
      " [4 3]]\n",
      "5\n"
     ]
    }
   ],
   "source": [
    "# Testing the l1_reg\n",
    "A = tf.constant([[1, -2],\n",
    "                [-4, -3]])\n",
    "l1_reg(A)\n",
    "with tf.Session() as sess:\n",
    "    print(sess.run(A))\n",
    "    print(sess.run(tf.abs(A)))\n",
    "    print(sess.run(l1_reg(A)))"
   ]
  },
  {
   "cell_type": "markdown",
   "metadata": {},
   "source": [
    "### Jacobian w.r.t The Input"
   ]
  },
  {
   "cell_type": "code",
   "execution_count": 59,
   "metadata": {
    "collapsed": true
   },
   "outputs": [],
   "source": [
    "def J_x(H,x):\n",
    "    J = []\n",
    "    for i in range(H.shape[1]):\n",
    "        J_j = tf.gradients(H[:,i],x)\n",
    "        J.append(J_j[0])\n",
    "    return tf.stack(J, axis=1)"
   ]
  },
  {
   "cell_type": "code",
   "execution_count": 67,
   "metadata": {
    "collapsed": false
   },
   "outputs": [
    {
     "name": "stdout",
     "output_type": "stream",
     "text": [
      "(?, 2)\n"
     ]
    }
   ],
   "source": [
    "# A very simple model\n",
    "tf.reset_default_graph()\n",
    "x = tf.placeholder(tf.float32, shape=[None,2])\n",
    "A = tf.constant([[1, -2],\n",
    "                [-4, -3]], dtype=tf.float32)\n",
    "h = tf.matmul(x, A)\n",
    "\n",
    "print(h.shape)\n",
    "B = J_x(h, x)\n"
   ]
  },
  {
   "cell_type": "code",
   "execution_count": 72,
   "metadata": {
    "collapsed": false
   },
   "outputs": [
    {
     "name": "stdout",
     "output_type": "stream",
     "text": [
      "[[[ 1. -4.]\n",
      "  [-2. -3.]]\n",
      "\n",
      " [[ 1. -4.]\n",
      "  [-2. -3.]]]\n"
     ]
    }
   ],
   "source": [
    "with tf.Session() as sess:        \n",
    "    # Note that. d/dx (xA) = A^t\n",
    "    tmp1 = sess.run(B, feed_dict={x: [[1,3], [2,3]]})\n",
    "    tmp2 = sess.run(B, feed_dict={x: [[1,3]]})\n",
    "    print(sess.run(B, feed_dict={x: [[1,3], [2,3]]}))"
   ]
  },
  {
   "cell_type": "markdown",
   "metadata": {},
   "source": [
    "### Norm evaluation"
   ]
  },
  {
   "cell_type": "code",
   "execution_count": 85,
   "metadata": {
    "collapsed": false
   },
   "outputs": [
    {
     "name": "stdout",
     "output_type": "stream",
     "text": [
      "7.745967\n",
      "5.477226\n"
     ]
    }
   ],
   "source": [
    "# Verification of what tf is doing\n",
    "F = tf.norm(B, axis=[0,1])\n",
    "import numpy as np\n",
    "print(np.sqrt(np.sum(np.square(tmp1))))\n",
    "print(np.sqrt(np.sum(np.square(tmp2))))"
   ]
  },
  {
   "cell_type": "code",
   "execution_count": 73,
   "metadata": {
    "collapsed": false
   },
   "outputs": [
    {
     "name": "stdout",
     "output_type": "stream",
     "text": [
      "7.745967\n",
      "5.477226\n"
     ]
    }
   ],
   "source": [
    "# testing the tf.norm\n",
    "with tf.Session() as sess:\n",
    "    print(sess.run(F, feed_dict={x: [[1,3], [2,3]]}))\n",
    "    print(sess.run(F, feed_dict={x: [[1,3]]}))"
   ]
  }
 ],
 "metadata": {
  "kernelspec": {
   "display_name": "Python 3",
   "language": "python",
   "name": "python3"
  },
  "language_info": {
   "codemirror_mode": {
    "name": "ipython",
    "version": 3
   },
   "file_extension": ".py",
   "mimetype": "text/x-python",
   "name": "python",
   "nbconvert_exporter": "python",
   "pygments_lexer": "ipython3",
   "version": "3.6.0"
  }
 },
 "nbformat": 4,
 "nbformat_minor": 2
}
